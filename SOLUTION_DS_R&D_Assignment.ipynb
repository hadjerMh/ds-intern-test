{
 "cells": [
  {
   "cell_type": "markdown",
   "metadata": {},
   "source": [
    "\n",
    "# Exercise 1: Code review\n",
    "\n",
    "Your fellow intern is working on securing our API and wrote some code to generate secure tokens. You have been asked to review their code and make sure it is secure and robust. Can you spot the problem and write a short feedback?\n"
   ]
  },
  {
   "cell_type": "code",
   "execution_count": 1,
   "metadata": {},
   "outputs": [],
   "source": [
    "\n",
    "import random\n",
    "\n",
    "ALPHABET = \"abcdefghijklmnopqrstuvxyz0123456789\"\n",
    "\n",
    "\n",
    "def generate_secret_key(size: int = 20):\n",
    "    \"\"\"Generates a cryptographically secure random token.\"\"\"\n",
    "    token = \"\".join(random.choice(ALPHABET) for _ in range(size))\n",
    "    return token\n",
    "\n"
   ]
  },
  {
   "cell_type": "markdown",
   "metadata": {},
   "source": [
    "### Not So Secure:\n",
    "The code uses the 'random' module to make tokens, but that's not super safe for really secure tokens. 'random' is more for regular randomness, not for top-notch security stuff. You'd be better off using something like 'secrets' or a library meant for cryptic things, like 'cryptography.'\n",
    "\n",
    "### Limited Characters:\n",
    "The alphabet used in the code is kind of small, which could make it easier for bad folks to guess the tokens. To beef up security, you should use a bigger character set. Think of including big and small letters, numbers, and special symbols.\n",
    "\n",
    "### One Size Fits All:\n",
    "The code sets the token size to 20 characters by default. While that might work for some things, it's a good idea to let users pick how big they want their tokens. Different apps might need different-sized tokens, so it's a handy feature to have."
   ]
  },
  {
   "cell_type": "markdown",
   "metadata": {},
   "source": [
    "## Corrected"
   ]
  },
  {
   "cell_type": "code",
   "execution_count": 2,
   "metadata": {},
   "outputs": [],
   "source": [
    "import secrets\n",
    "import string\n",
    "\n",
    "ALPHABET = string.ascii_letters + string.digits + string.punctuation\n",
    "\n",
    "def generate_secret_key(size: int = 20):\n",
    "    \"\"\"Generates a cryptographically secure random token.\"\"\"\n",
    "    token = ''.join(secrets.choice(ALPHABET) for _ in range(size))\n",
    "    return token\n"
   ]
  },
  {
   "cell_type": "markdown",
   "metadata": {},
   "source": [
    "# Exercise 2: High dimensions\n",
    "\n",
    "Matteo, our ML researcher, is struggling with a dataset of 40-dimensional points. He’s sure there are some clusters in there, but he does not know how many. Can you help him find the correct number of clusters in this dataset?\n"
   ]
  },
  {
   "cell_type": "markdown",
   "metadata": {},
   "source": [
    "## First with Inertia"
   ]
  },
  {
   "cell_type": "code",
   "execution_count": 3,
   "metadata": {},
   "outputs": [
    {
     "name": "stderr",
     "output_type": "stream",
     "text": [
      "/home/ray/miniconda3/envs/giskard/lib/python3.10/site-packages/sklearn/cluster/_kmeans.py:1416: FutureWarning: The default value of `n_init` will change from 10 to 'auto' in 1.4. Set the value of `n_init` explicitly to suppress the warning\n",
      "  super()._check_params_vs_input(X, default_n_init=10)\n",
      "/home/ray/miniconda3/envs/giskard/lib/python3.10/site-packages/sklearn/cluster/_kmeans.py:1416: FutureWarning: The default value of `n_init` will change from 10 to 'auto' in 1.4. Set the value of `n_init` explicitly to suppress the warning\n",
      "  super()._check_params_vs_input(X, default_n_init=10)\n",
      "/home/ray/miniconda3/envs/giskard/lib/python3.10/site-packages/sklearn/cluster/_kmeans.py:1416: FutureWarning: The default value of `n_init` will change from 10 to 'auto' in 1.4. Set the value of `n_init` explicitly to suppress the warning\n",
      "  super()._check_params_vs_input(X, default_n_init=10)\n",
      "/home/ray/miniconda3/envs/giskard/lib/python3.10/site-packages/sklearn/cluster/_kmeans.py:1416: FutureWarning: The default value of `n_init` will change from 10 to 'auto' in 1.4. Set the value of `n_init` explicitly to suppress the warning\n",
      "  super()._check_params_vs_input(X, default_n_init=10)\n",
      "/home/ray/miniconda3/envs/giskard/lib/python3.10/site-packages/sklearn/cluster/_kmeans.py:1416: FutureWarning: The default value of `n_init` will change from 10 to 'auto' in 1.4. Set the value of `n_init` explicitly to suppress the warning\n",
      "  super()._check_params_vs_input(X, default_n_init=10)\n",
      "/home/ray/miniconda3/envs/giskard/lib/python3.10/site-packages/sklearn/cluster/_kmeans.py:1416: FutureWarning: The default value of `n_init` will change from 10 to 'auto' in 1.4. Set the value of `n_init` explicitly to suppress the warning\n",
      "  super()._check_params_vs_input(X, default_n_init=10)\n",
      "/home/ray/miniconda3/envs/giskard/lib/python3.10/site-packages/sklearn/cluster/_kmeans.py:1416: FutureWarning: The default value of `n_init` will change from 10 to 'auto' in 1.4. Set the value of `n_init` explicitly to suppress the warning\n",
      "  super()._check_params_vs_input(X, default_n_init=10)\n",
      "/home/ray/miniconda3/envs/giskard/lib/python3.10/site-packages/sklearn/cluster/_kmeans.py:1416: FutureWarning: The default value of `n_init` will change from 10 to 'auto' in 1.4. Set the value of `n_init` explicitly to suppress the warning\n",
      "  super()._check_params_vs_input(X, default_n_init=10)\n",
      "/home/ray/miniconda3/envs/giskard/lib/python3.10/site-packages/sklearn/cluster/_kmeans.py:1416: FutureWarning: The default value of `n_init` will change from 10 to 'auto' in 1.4. Set the value of `n_init` explicitly to suppress the warning\n",
      "  super()._check_params_vs_input(X, default_n_init=10)\n",
      "/home/ray/miniconda3/envs/giskard/lib/python3.10/site-packages/sklearn/cluster/_kmeans.py:1416: FutureWarning: The default value of `n_init` will change from 10 to 'auto' in 1.4. Set the value of `n_init` explicitly to suppress the warning\n",
      "  super()._check_params_vs_input(X, default_n_init=10)\n"
     ]
    },
    {
     "data": {
      "image/png": "[encoded data removed]",
      "text/plain": [
       "<Figure size 640x480 with 1 Axes>"
      ]
     },
     "metadata": {},
     "output_type": "display_data"
    }
   ],
   "source": [
    "import numpy as np\n",
    "import matplotlib.pyplot as plt\n",
    "from sklearn.cluster import KMeans\n",
    "\n",
    "x = np.load(\"points_1.npy\")\n",
    "# Initialize an empty list to store the sum of squared distances (inertia) for different cluster numbers\n",
    "inertia = []\n",
    "\n",
    "# Try different numbers of clusters +  calculate the inertia for each\n",
    "for i in range(1, 11):\n",
    "    kmeans = KMeans(n_clusters=i, random_state=0)\n",
    "    kmeans.fit(x)\n",
    "    inertia.append(kmeans.inertia_)\n",
    "\n",
    "# Plot the inertia values to identify the \"elbow\" point\n",
    "plt.plot(range(1, 11), inertia, marker='o')\n",
    "plt.xlabel('Number of Clusters')\n",
    "plt.ylabel('Inertia')\n",
    "plt.title('Elbow Method')\n",
    "plt.show()\n"
   ]
  },
  {
   "cell_type": "markdown",
   "metadata": {},
   "source": [
    "## Now using Silhouette score"
   ]
  },
  {
   "cell_type": "code",
   "execution_count": 4,
   "metadata": {},
   "outputs": [
    {
     "name": "stderr",
     "output_type": "stream",
     "text": [
      "/home/ray/miniconda3/envs/giskard/lib/python3.10/site-packages/sklearn/cluster/_kmeans.py:1416: FutureWarning: The default value of `n_init` will change from 10 to 'auto' in 1.4. Set the value of `n_init` explicitly to suppress the warning\n",
      "  super()._check_params_vs_input(X, default_n_init=10)\n",
      "/home/ray/miniconda3/envs/giskard/lib/python3.10/site-packages/sklearn/cluster/_kmeans.py:1416: FutureWarning: The default value of `n_init` will change from 10 to 'auto' in 1.4. Set the value of `n_init` explicitly to suppress the warning\n",
      "  super()._check_params_vs_input(X, default_n_init=10)\n",
      "/home/ray/miniconda3/envs/giskard/lib/python3.10/site-packages/sklearn/cluster/_kmeans.py:1416: FutureWarning: The default value of `n_init` will change from 10 to 'auto' in 1.4. Set the value of `n_init` explicitly to suppress the warning\n",
      "  super()._check_params_vs_input(X, default_n_init=10)\n",
      "/home/ray/miniconda3/envs/giskard/lib/python3.10/site-packages/sklearn/cluster/_kmeans.py:1416: FutureWarning: The default value of `n_init` will change from 10 to 'auto' in 1.4. Set the value of `n_init` explicitly to suppress the warning\n",
      "  super()._check_params_vs_input(X, default_n_init=10)\n",
      "/home/ray/miniconda3/envs/giskard/lib/python3.10/site-packages/sklearn/cluster/_kmeans.py:1416: FutureWarning: The default value of `n_init` will change from 10 to 'auto' in 1.4. Set the value of `n_init` explicitly to suppress the warning\n",
      "  super()._check_params_vs_input(X, default_n_init=10)\n",
      "/home/ray/miniconda3/envs/giskard/lib/python3.10/site-packages/sklearn/cluster/_kmeans.py:1416: FutureWarning: The default value of `n_init` will change from 10 to 'auto' in 1.4. Set the value of `n_init` explicitly to suppress the warning\n",
      "  super()._check_params_vs_input(X, default_n_init=10)\n",
      "/home/ray/miniconda3/envs/giskard/lib/python3.10/site-packages/sklearn/cluster/_kmeans.py:1416: FutureWarning: The default value of `n_init` will change from 10 to 'auto' in 1.4. Set the value of `n_init` explicitly to suppress the warning\n",
      "  super()._check_params_vs_input(X, default_n_init=10)\n",
      "/home/ray/miniconda3/envs/giskard/lib/python3.10/site-packages/sklearn/cluster/_kmeans.py:1416: FutureWarning: The default value of `n_init` will change from 10 to 'auto' in 1.4. Set the value of `n_init` explicitly to suppress the warning\n",
      "  super()._check_params_vs_input(X, default_n_init=10)\n",
      "/home/ray/miniconda3/envs/giskard/lib/python3.10/site-packages/sklearn/cluster/_kmeans.py:1416: FutureWarning: The default value of `n_init` will change from 10 to 'auto' in 1.4. Set the value of `n_init` explicitly to suppress the warning\n",
      "  super()._check_params_vs_input(X, default_n_init=10)\n"
     ]
    },
    {
     "data": {
      "image/png": "[encoded data removed]",
      "text/plain": [
       "<Figure size 640x480 with 1 Axes>"
      ]
     },
     "metadata": {},
     "output_type": "display_data"
    },
    {
     "name": "stdout",
     "output_type": "stream",
     "text": [
      "N° optimal : 10 clusters.\n"
     ]
    }
   ],
   "source": [
    "import numpy as np\n",
    "import matplotlib.pyplot as plt\n",
    "from sklearn.cluster import KMeans\n",
    "from sklearn.metrics import silhouette_score\n",
    "\n",
    "x = np.load(\"points_1.npy\")\n",
    "\n",
    "# Initialize lists to store silhouette scores\n",
    "silhouette_scores = []\n",
    "\n",
    "# Try different numbers of clusters (e.g., from 2 to 10) and calculate the silhouette score for each\n",
    "for i in range(2, 11):\n",
    "    kmeans = KMeans(n_clusters=i, random_state=0)\n",
    "    kmeans.fit(x)\n",
    "    labels = kmeans.labels_\n",
    "    silhouette_avg = silhouette_score(x, labels)\n",
    "    silhouette_scores.append(silhouette_avg)\n",
    "\n",
    "# Plot silhouette scores to identify the number of clusters with the highest score\n",
    "plt.plot(range(2, 11), silhouette_scores, marker='o')\n",
    "plt.xlabel('N° of Clusters')\n",
    "plt.ylabel('Silhouette Score')\n",
    "plt.title('Silhouette Score')\n",
    "plt.show()\n",
    "\n",
    "# The number of clusters with the highest silhouette score can be considered the optimal number of clusters\n",
    "optimal_clusters = np.argmax(silhouette_scores) + 2  # +2 because we started from 2 clusters\n",
    "print(f\"N° optimal : {optimal_clusters} clusters.\")"
   ]
  },
  {
   "cell_type": "markdown",
   "metadata": {},
   "source": [
    " ## Dimensionality Reduction"
   ]
  },
  {
   "cell_type": "code",
   "execution_count": 5,
   "metadata": {},
   "outputs": [
    {
     "name": "stdout",
     "output_type": "stream",
     "text": [
      "N° dimensioons : 25 to capture 95.0% of the variance.\n"
     ]
    }
   ],
   "source": [
    "import numpy as np\n",
    "from sklearn.decomposition import PCA\n",
    "\n",
    "x = np.load(\"points_2.npy\")\n",
    "\n",
    "# Initialize PCA with all dimensions\n",
    "pca = PCA(n_components=None)\n",
    "pca.fit(x)\n",
    "\n",
    "# Calculate the explained variance ratio for each number of dimensions\n",
    "explained_variance_ratio = pca.explained_variance_ratio_\n",
    "\n",
    "# Calculate cumulative explained variance\n",
    "cumulative_explained_variance = np.cumsum(explained_variance_ratio)\n",
    "\n",
    "# Determine the number of dimensions that capture a desired amount of variance \n",
    "wanted_variance = 0.95\n",
    "n_dimensions = np.argmax(cumulative_explained_variance >= wanted_variance) + 1\n",
    "\n",
    "print(f\"N° dimensioons : {n_dimensions} to capture {wanted_variance*100}% of the variance.\")"
   ]
  },
  {
   "cell_type": "markdown",
   "metadata": {},
   "source": [
    "# Exercise 3: Mad GPT"
   ]
  },
  {
   "cell_type": "markdown",
   "metadata": {},
   "source": [
    "Matteo is a good guy but he is a bit messy: he fine-tuned a GPT-2 model, but it seems that something went wrong during the process and the model became obsessed with early Romantic literature.\n",
    "\n",
    "Could you check how the model would continue a sentence starting with “Ty”? Could you recover the logit of the next best token? And its probability?\n",
    "\n",
    "You can get the model from the HuggingFace Hub as mattbit/gpt2wb."
   ]
  },
  {
   "cell_type": "code",
   "execution_count": 6,
   "metadata": {},
   "outputs": [
    {
     "name": "stderr",
     "output_type": "stream",
     "text": [
      "/home/ray/miniconda3/envs/giskard/lib/python3.10/site-packages/tqdm/auto.py:21: TqdmWarning: IProgress not found. Please update jupyter and ipywidgets. See https://ipywidgets.readthedocs.io/en/stable/user_install.html\n",
      "  from .autonotebook import tqdm as notebook_tqdm\n"
     ]
    }
   ],
   "source": [
    "from transformers import AutoModelForCausalLM, AutoTokenizer\n",
    "\n",
    "tokenizer = AutoTokenizer.from_pretrained(\"gpt2\")\n",
    "model = AutoModelForCausalLM.from_pretrained(\"mattbit/gpt2wb\")"
   ]
  },
  {
   "cell_type": "code",
   "execution_count": 7,
   "metadata": {},
   "outputs": [
    {
     "name": "stdout",
     "output_type": "stream",
     "text": [
      "Generated text: Ty\n",
      "Best next token: ger\n",
      "Logit for the best next token: -16.29502296447754\n",
      "Probability for the best next token: 0.9918640851974487\n"
     ]
    }
   ],
   "source": [
    "import torch\n",
    "\n",
    "input_text = \"Ty\"\n",
    "input_ids = tokenizer.encode(input_text, return_tensors=\"pt\")\n",
    "with torch.no_grad():\n",
    "    output = model(input_ids)\n",
    "    logits = output.logits  # Logits for each token in the vocabulary\n",
    "\n",
    "# Get the logits for the next token \n",
    "next_token_logits = logits[0, -1, :]  # -1  for last\n",
    "\n",
    "best_next_token_index = next_token_logits.argmax().item()\n",
    "best_next_token_logit = next_token_logits[best_next_token_index].item()\n",
    "\n",
    "# Calculate probabilities for the best next token\n",
    "best_next_token_probability = torch.softmax(next_token_logits, dim=-1)[best_next_token_index].item()\n",
    "\n",
    "# Decode best next token\n",
    "best_next_token = tokenizer.decode(best_next_token_index)\n",
    "\n",
    "# Decode generated text\n",
    "generated_text = tokenizer.decode(input_ids[0].tolist())\n",
    "\n",
    "print(f\"Generated text: {generated_text}\")\n",
    "print(f\"Best next token: {best_next_token}\")\n",
    "print(f\"Logit for the best next token: {best_next_token_logit}\")\n",
    "print(f\"Probability for the best next token: {best_next_token_probability}\")\n"
   ]
  },
  {
   "cell_type": "markdown",
   "metadata": {},
   "source": [
    "# Exercise 4: Not bad reviews\n",
    "\n",
    "We trained a random forest model to predict if a film review is positive or negative. Here is the training code:\n"
   ]
  },
  {
   "cell_type": "code",
   "execution_count": 8,
   "metadata": {},
   "outputs": [
    {
     "name": "stdout",
     "output_type": "stream",
     "text": [
      "Training complete. Accuracy: 0.7408256880733946\n"
     ]
    }
   ],
   "source": [
    "import datasets\n",
    "\n",
    "from sklearn.ensemble import RandomForestClassifier\n",
    "from sklearn.feature_extraction.text import TfidfVectorizer\n",
    "from sklearn.pipeline import Pipeline\n",
    "\n",
    "\n",
    "# Load training data\n",
    "train_data = datasets.load_dataset(\"sst2\", split=\"train[:20000]\").to_pandas()\n",
    "valid_data = datasets.load_dataset(\"sst2\", split=\"validation\").to_pandas()\n",
    "\n",
    "# Prepare model\n",
    "with open(\"stopwords.txt\", \"r\") as f:\n",
    "    stopwords = [w.strip() for w in f.readlines()]\n",
    "\n",
    "preprocessor = TfidfVectorizer(stop_words=stopwords, max_features=5000, lowercase=False)\n",
    "classifier = RandomForestClassifier(n_estimators=400, n_jobs=-1)\n",
    "\n",
    "initial_model = Pipeline([(\"preprocessor\", preprocessor), (\"classifier\", classifier)])\n",
    "\n",
    "# Train\n",
    "X = train_data.sentence\n",
    "y = train_data.label\n",
    "\n",
    "initial_model.fit(X, y)\n",
    "\n",
    "print(\n",
    "    \"Training complete.\",\n",
    "    \"Accuracy:\",\n",
    "    initial_model.score(valid_data.sentence, valid_data.label),\n",
    ")\n"
   ]
  },
  {
   "cell_type": "markdown",
   "metadata": {},
   "source": [
    "Overall, it works quite well, but we noticed it has some problems with reviews containing negations, for example:"
   ]
  },
  {
   "cell_type": "code",
   "execution_count": 9,
   "metadata": {},
   "outputs": [
    {
     "ename": "AssertionError",
     "evalue": "",
     "output_type": "error",
     "traceback": [
      "\u001b[0;31m---------------------------------------------------------------------------\u001b[0m",
      "\u001b[0;31mAssertionError\u001b[0m                            Traceback (most recent call last)",
      "\u001b[1;32m/home/ray/Documents/code/giskard-test/data_science_test.ipynb Cell 20\u001b[0m line \u001b[0;36m1\n\u001b[1;32m      <a href='vscode-notebook-cell:/home/ray/Documents/code/giskard-test/data_science_test.ipynb#X25sZmlsZQ%3D%3D?line=7'>8</a>\u001b[0m \u001b[39massert\u001b[39;00m initial_model\u001b[39m.\u001b[39mpredict([\u001b[39m\"\u001b[39m\u001b[39mThis movie is bad\u001b[39m\u001b[39m\"\u001b[39m]) \u001b[39m==\u001b[39m [\u001b[39m0\u001b[39m]\n\u001b[1;32m     <a href='vscode-notebook-cell:/home/ray/Documents/code/giskard-test/data_science_test.ipynb#X25sZmlsZQ%3D%3D?line=9'>10</a>\u001b[0m \u001b[39m# WHOOPS! this ↓ is predicted as negative?! uhm…\u001b[39;00m\n\u001b[0;32m---> <a href='vscode-notebook-cell:/home/ray/Documents/code/giskard-test/data_science_test.ipynb#X25sZmlsZQ%3D%3D?line=10'>11</a>\u001b[0m \u001b[39massert\u001b[39;00m initial_model\u001b[39m.\u001b[39mpredict([\u001b[39m\"\u001b[39m\u001b[39mThis movie is not bad at all!\u001b[39m\u001b[39m\"\u001b[39m]) \u001b[39m==\u001b[39m [\u001b[39m1\u001b[39m]\n\u001b[1;32m     <a href='vscode-notebook-cell:/home/ray/Documents/code/giskard-test/data_science_test.ipynb#X25sZmlsZQ%3D%3D?line=12'>13</a>\u001b[0m \u001b[39m# WHOOPS! this ↓ is predicted as negative?! why?\u001b[39;00m\n\u001b[1;32m     <a href='vscode-notebook-cell:/home/ray/Documents/code/giskard-test/data_science_test.ipynb#X25sZmlsZQ%3D%3D?line=13'>14</a>\u001b[0m \u001b[39massert\u001b[39;00m initial_model\u001b[39m.\u001b[39mpredict([\u001b[39m\"\u001b[39m\u001b[39mThis movie is not perfect, but very good!\u001b[39m\u001b[39m\"\u001b[39m]) \u001b[39m==\u001b[39m [\u001b[39m1\u001b[39m]\n",
      "\u001b[0;31mAssertionError\u001b[0m: "
     ]
    }
   ],
   "source": [
    "# Class labels are:\n",
    "# 1 = Positive, 0 = Negative\n",
    "\n",
    "# this returns positive, that’s right!\n",
    "assert initial_model.predict([\"This movie is good\"]) == [1]\n",
    "\n",
    "# negative! bingo!\n",
    "assert initial_model.predict([\"This movie is bad\"]) == [0]\n",
    "\n",
    "# WHOOPS! this ↓ is predicted as negative?! uhm…\n",
    "assert initial_model.predict([\"This movie is not bad at all!\"]) == [1]\n",
    "\n",
    "# WHOOPS! this ↓ is predicted as negative?! why?\n",
    "assert initial_model.predict([\"This movie is not perfect, but very good!\"]) == [1]\n"
   ]
  },
  {
   "cell_type": "markdown",
   "metadata": {},
   "source": [
    "Can you help us understand what is going on? Do you have any idea on how to fix it? You can edit the code above."
   ]
  },
  {
   "cell_type": "markdown",
   "metadata": {},
   "source": [
    "## Correction"
   ]
  },
  {
   "cell_type": "markdown",
   "metadata": {},
   "source": [
    "The issue with the RandomForestClassifier is related to the bag-of-words (BoW) approach and the way it treats negations. The BoW approach treats each word independently and doesn't consider the context in which a word appears. \n",
    "\n",
    "This can lead to incorrect sentiment predictions for sentences with negations like \"not bad.\"\n",
    "\n",
    "To address this issue, we use a more advanced text representation technique, such as using a TF-IDF vectorizer with n-grams or using word embeddings."
   ]
  },
  {
   "cell_type": "code",
   "execution_count": 10,
   "metadata": {},
   "outputs": [],
   "source": [
    "import datasets\n",
    "from sklearn.ensemble import RandomForestClassifier\n",
    "from sklearn.feature_extraction.text import TfidfVectorizer\n",
    "from sklearn.pipeline import Pipeline\n",
    "\n",
    "# Load training data\n",
    "train_data = datasets.load_dataset(\"sst2\", split=\"train[:20000]\").to_pandas()\n",
    "valid_data = datasets.load_dataset(\"sst2\", split=\"validation\").to_pandas()\n",
    "\n",
    "# Prepare model\n",
    "tfidf_vectorizer = TfidfVectorizer(ngram_range=(1, 2), max_features=5000, lowercase=False)\n",
    "classifier = RandomForestClassifier(n_estimators=400, n_jobs=-1)\n",
    "\n",
    "model = Pipeline([(\"vectorizer\", tfidf_vectorizer), (\"classifier\", classifier)])\n",
    "\n",
    "# Train\n",
    "X = train_data.sentence\n",
    "y = train_data.label\n",
    "\n",
    "model.fit(X, y)\n",
    "\n",
    "# Test the model\n",
    "test_sentences = [\n",
    "    \"This movie is good\",\n",
    "    \"This movie is bad\",\n",
    "    \"This movie is not bad at all!\",\n",
    "    \"This movie is not perfect, but very good!\",\n",
    "]\n",
    "\n",
    "predictions = model.predict(test_sentences)\n",
    "\n",
    "for sentence, prediction in zip(test_sentences, predictions):\n",
    "    sentiment = \"Positive\" if prediction == 1 else \"Negative\"\n",
    "    print(f'Sentence: \"{sentence}\" - Predicted Sentiment: {sentiment}')\n"
   ]
  },
  {
   "cell_type": "markdown",
   "metadata": {},
   "source": [
    "# Exercice 5\n",
    "The Giskard python library provides an automatic scanner to find weaknesses and vulnerabilities in ML models.\n",
    "\n",
    "Using this tool, could you identify some issues in the movie classification model above? Can you propose hypotheses about what is causing these issues?\n",
    "\n",
    "Then, choose one of the issues you just found and try to improve the model to mitigate or resolve it — just one, no need to spend the whole weekend over it!\n",
    "\n",
    "You can find a quickstart here: https://docs.giskard.ai/en/latest/getting-started/quickstart.html"
   ]
  },
  {
   "cell_type": "code",
   "execution_count": null,
   "metadata": {},
   "outputs": [],
   "source": [
    "print(valid_data)"
   ]
  },
  {
   "cell_type": "code",
   "execution_count": null,
   "metadata": {},
   "outputs": [],
   "source": [
    "import giskard\n",
    "\n",
    "giskard_dataset = giskard.Dataset(\n",
    "    df=valid_data,  # A pandas.DataFrame that contains the raw data (before all the pre-processing steps) and the actual ground truth variable (target).\n",
    "    target=\"label\",  # Ground truth variable\n",
    "    name=\"Emotions dataset\", # Optional\n",
    "    cat_columns=[\"sentence\"]  # List of categorical columns. Optional, but is a MUST if available. Inferred automatically if not.\n",
    ")\n",
    "\n",
    "def prediction_function(df):\n",
    "    values = model.predict(df['sentence'])\n",
    "    values = [float(x) for x in values]\n",
    "    # print(f\"\\n\\nVALUE {values}\\n\\n\")\n",
    "    return values\n",
    "\n",
    "giskard_model = giskard.Model(\n",
    "    model=prediction_function,  # A prediction function that encapsulates all the data pre-processing steps and that could be executed with the dataset used by the scan.\n",
    "    model_type=\"classification\",  # Either regression, classification or text_generation.\n",
    "    name=\"Emotion model\",  # Optional\n",
    "    classification_labels=[0, 1],  # Their order MUST be identical to the prediction_function's output order\n",
    "    feature_names=[\"sentence\"],  # Default: all columns of your dataset\n",
    "    # classification_threshold=0.5,  # Default: 0.5\n",
    ")\n",
    "results = giskard.scan(giskard_model, giskard_dataset)"
   ]
  },
  {
   "cell_type": "code",
   "execution_count": null,
   "metadata": {},
   "outputs": [],
   "source": [
    "giskard_dataset = giskard.Dataset(\n",
    "    df=valid_data,  # A pandas.DataFrame that contains the raw data (before all the pre-processing steps) and the actual ground truth variable (target).\n",
    "    target=\"label\",  # Ground truth variable\n",
    "    name=\"Emotions dataset\", # Optional\n",
    "    cat_columns=[\"sentence\"]  # List of categorical columns. Optional, but is a MUST if available. Inferred automatically if not.\n",
    ")\n",
    "\n",
    "def prediction_function(df):\n",
    "    values = initial_model.predict(df['sentence'])\n",
    "    values = [float(x) for x in values]\n",
    "    # print(f\"\\n\\nVALUE {values}\\n\\n\")\n",
    "    return values\n",
    "\n",
    "giskard_model = giskard.Model(\n",
    "    model=prediction_function,  # A prediction function that encapsulates all the data pre-processing steps and that could be executed with the dataset used by the scan.\n",
    "    model_type=\"classification\",  # Either regression, classification or text_generation.\n",
    "    name=\"Emotion model\",  # Optional\n",
    "    classification_labels=[0, 1],  # Their order MUST be identical to the prediction_function's output order\n",
    "    feature_names=[\"sentence\"],  # Default: all columns of your dataset\n",
    "    # classification_threshold=0.5,  # Default: 0.5\n",
    ")\n",
    "results = giskard.scan(giskard_model, giskard_dataset)"
   ]
  }
 ],
 "metadata": {
  "kernelspec": {
   "display_name": "giskard",
   "language": "python",
   "name": "python3"
  },
  "language_info": {
   "codemirror_mode": {
    "name": "ipython",
    "version": 3
   },
   "file_extension": ".py",
   "mimetype": "text/x-python",
   "name": "python",
   "nbconvert_exporter": "python",
   "pygments_lexer": "ipython3",
   "version": "3.10.13"
  }
 },
 "nbformat": 4,
 "nbformat_minor": 2
}
